{
 "cells": [
  {
   "cell_type": "markdown",
   "metadata": {},
   "source": [
    "# Black Scholes formula\n",
    "\n",
    "\n",
    "Black-Scholes formula for European Put option price\n",
    "\n",
    "\\begin{equation}\n",
    "  P_t = K{\\rm e}^{-r(T-t)}\\Phi\\left(-\\frac{\\ln\\left(\\frac{S_t}{K}\\right)+\\left(r-\\frac{1}{2}\\sigma^2\\right)(T-t)}{\\sigma\\sqrt{T-t}}\\right)\n",
    "-S_t\\Phi\\left( -\\frac{\\ln\\left(\\frac{S_t}{K}\\right)+\\left(r+\\frac{1}{2}\\sigma^2\\right)(T-t)}{\\sigma\\sqrt{T-t}}\\right)\n",
    "\\end{equation}\n",
    "\n",
    "Black-Scholes formula for European Call option price\n",
    "\\begin{equation}\n",
    "C_t = S_t\\Phi\\left( \\frac{\\ln\\left(\\frac{S_t}{K}\\right)+\\left(r+\\frac{1}{2}\\sigma^2\\right)(T-t)}{\\sigma\\sqrt{T-t}}\\right)\n",
    "-K{\\rm e}^{-r(T-t)}\\Phi\\left(\\frac{\\ln\\left(\\frac{S_t}{K}\\right)+\\left(r-\\frac{1}{2}\\sigma^2\\right)(T-t)}{\\sigma\\sqrt{T-t}}\\right)\n",
    "\\end{equation}\n",
    "\n",
    "R code to generate prices using direct implementation of\n",
    "Black-Scholes formula.\n",
    "\n",
    "See commented lines to run with call or put option.\n",
    "\n",
    "\n",
    "\n"
   ]
  },
  {
   "cell_type": "code",
   "execution_count": 1,
   "metadata": {},
   "outputs": [],
   "source": [
    "import numpy as np\n",
    "import scipy.stats as si\n",
    "import sympy as sy\n",
    "from sympy.stats import Normal, cdf\n",
    "from sympy import init_printing\n",
    "init_printing()"
   ]
  },
  {
   "cell_type": "code",
   "execution_count": 2,
   "metadata": {},
   "outputs": [],
   "source": [
    "def BlackScholes(S, K, T, r, sigma, option = 'call'):\n",
    "    \n",
    "    #S: spot price\n",
    "    #K: strike price\n",
    "    #T: time to maturity\n",
    "    #r: interest rate\n",
    "    #sigma: volatility of underlying asset\n",
    "    \n",
    "    d1 = (np.log(S / K) + (r + 0.5 * sigma ** 2) * T) / (sigma * np.sqrt(T))\n",
    "    d2 = (np.log(S / K) + (r - 0.5 * sigma ** 2) * T) / (sigma * np.sqrt(T))\n",
    "    \n",
    "    if option == 'call':\n",
    "        result = (S * si.norm.cdf(d1, 0.0, 1.0) - K * np.exp(-r * T) * si.norm.cdf(d2, 0.0, 1.0))\n",
    "    if option == 'put':\n",
    "        result = (K * np.exp(-r * T) * si.norm.cdf(-d2, 0.0, 1.0) - S * si.norm.cdf(-d1, 0.0, 1.0))\n",
    "        \n",
    "    return result"
   ]
  },
  {
   "cell_type": "code",
   "execution_count": 9,
   "metadata": {},
   "outputs": [
    {
     "data": {
      "image/png": "[encoded data removed]",
      "text/plain": [
       "<Figure size 432x288 with 1 Axes>"
      ]
     },
     "metadata": {
      "needs_background": "light"
     },
     "output_type": "display_data"
    }
   ],
   "source": [
    "import matplotlib.pyplot as plt #Matplotlib for pythons basic plotting\n",
    "import plotly\n",
    "\n",
    "\n",
    "S = np.arange(1, 100, 1)\n",
    "CallVal = BlackScholes(S, 50, 2, 0.1, 0.3, 'call')\n",
    "plt.plot(S, CallVal)\n",
    "plt.xlabel('S')\n",
    "plt.ylabel('CallVal')\n",
    "plt.show()"
   ]
  },
  {
   "cell_type": "markdown",
   "metadata": {},
   "source": [
    "#### Testing Black-Scholes against real data!\n",
    "\n",
    "From Yahoo-Finance-Options.ipynb: Maturity in 180 days Strike 570 Call Market Price 28.875\n",
    "\n",
    "From Yahoo-Finance-Stocks.ipynb: Price today NFLX 469.9599914550781, Annualized daily volatility from 2019-09-03 to 2020-09-18 for nflx is 43.74%\n",
    "\n",
    "From US-Treasury: rate=0.13"
   ]
  },
  {
   "cell_type": "code",
   "execution_count": 11,
   "metadata": {},
   "outputs": [
    {
     "data": {
      "image/png": "[encoded data removed]",
      "text/latex": [
       "$\\displaystyle 34.58510463238102$"
      ],
      "text/plain": [
       "34.58510463238102"
      ]
     },
     "execution_count": 11,
     "metadata": {},
     "output_type": "execute_result"
    }
   ],
   "source": [
    "currentstock=469.9599914550781\n",
    "strike=570\n",
    "maturity=180/365.\n",
    "vol=0.44\n",
    "rate=0.13\n",
    "\n",
    "BlackScholes(S=currentstock, K=570, T=maturity, r=rate, sigma=vol, option='call')"
   ]
  },
  {
   "cell_type": "code",
   "execution_count": null,
   "metadata": {},
   "outputs": [],
   "source": []
  },
  {
   "cell_type": "markdown",
   "metadata": {},
   "source": [
    "Exercise: What volatility would need to go into the BS model to make the prices match?\n"
   ]
  },
  {
   "cell_type": "code",
   "execution_count": null,
   "metadata": {},
   "outputs": [],
   "source": []
  }
 ],
 "metadata": {
  "kernelspec": {
   "display_name": "Python 3",
   "language": "python",
   "name": "python3"
  },
  "language_info": {
   "codemirror_mode": {
    "name": "ipython",
    "version": 3
   },
   "file_extension": ".py",
   "mimetype": "text/x-python",
   "name": "python",
   "nbconvert_exporter": "python",
   "pygments_lexer": "ipython3",
   "version": "3.7.4"
  }
 },
 "nbformat": 4,
 "nbformat_minor": 1
}
