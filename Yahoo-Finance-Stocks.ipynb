{
 "cells": [
  {
   "cell_type": "markdown",
   "metadata": {},
   "source": [
    "## Stock data\n",
    "\n",
    "In this notebook, we will look at REAL data from Yahoo Finance and make use of the yahoo_fin package.\n",
    "\n",
    "In particular, we will look at our shosen stock and get a feel for how it fluctuates on a day-to-day basis. We will finally put a number on this by calculating the standard deviation of the relative changes in the stock prices.\n"
   ]
  },
  {
   "cell_type": "code",
   "execution_count": 2,
   "metadata": {},
   "outputs": [],
   "source": [
    "#http://theautomatic.net/2019/04/17/how-to-get-options-data-with-python/\n",
    "#https://algotrading101.com/learn/yahoo-finance-api-guide/\n",
    "#http://www.quantsbin.com/introduction-stock-analysis-pandas1/\n",
    "import yahoo_fin.stock_info as si\n",
    "import pandas as pd\n",
    "from yahoo_fin.stock_info import get_data\n",
    "import numpy as np"
   ]
  },
  {
   "cell_type": "code",
   "execution_count": 3,
   "metadata": {},
   "outputs": [
    {
     "data": {
      "text/html": [
       "<div>\n",
       "<style scoped>\n",
       "    .dataframe tbody tr th:only-of-type {\n",
       "        vertical-align: middle;\n",
       "    }\n",
       "\n",
       "    .dataframe tbody tr th {\n",
       "        vertical-align: top;\n",
       "    }\n",
       "\n",
       "    .dataframe thead th {\n",
       "        text-align: right;\n",
       "    }\n",
       "</style>\n",
       "<table border=\"1\" class=\"dataframe\">\n",
       "  <thead>\n",
       "    <tr style=\"text-align: right;\">\n",
       "      <th></th>\n",
       "      <th>open</th>\n",
       "      <th>high</th>\n",
       "      <th>low</th>\n",
       "      <th>close</th>\n",
       "      <th>adjclose</th>\n",
       "      <th>volume</th>\n",
       "      <th>ticker</th>\n",
       "    </tr>\n",
       "  </thead>\n",
       "  <tbody>\n",
       "    <tr>\n",
       "      <td>2019-09-03</td>\n",
       "      <td>290.820007</td>\n",
       "      <td>293.899994</td>\n",
       "      <td>288.059998</td>\n",
       "      <td>289.290009</td>\n",
       "      <td>289.290009</td>\n",
       "      <td>3682800</td>\n",
       "      <td>NFLX</td>\n",
       "    </tr>\n",
       "    <tr>\n",
       "      <td>2019-09-04</td>\n",
       "      <td>291.250000</td>\n",
       "      <td>292.380005</td>\n",
       "      <td>286.510010</td>\n",
       "      <td>291.519989</td>\n",
       "      <td>291.519989</td>\n",
       "      <td>4652500</td>\n",
       "      <td>NFLX</td>\n",
       "    </tr>\n",
       "    <tr>\n",
       "      <td>2019-09-05</td>\n",
       "      <td>285.320007</td>\n",
       "      <td>293.970001</td>\n",
       "      <td>282.790009</td>\n",
       "      <td>293.250000</td>\n",
       "      <td>293.250000</td>\n",
       "      <td>8966800</td>\n",
       "      <td>NFLX</td>\n",
       "    </tr>\n",
       "    <tr>\n",
       "      <td>2019-09-06</td>\n",
       "      <td>293.350006</td>\n",
       "      <td>293.350006</td>\n",
       "      <td>287.029999</td>\n",
       "      <td>290.170013</td>\n",
       "      <td>290.170013</td>\n",
       "      <td>5166600</td>\n",
       "      <td>NFLX</td>\n",
       "    </tr>\n",
       "    <tr>\n",
       "      <td>2019-09-09</td>\n",
       "      <td>294.809998</td>\n",
       "      <td>301.549988</td>\n",
       "      <td>290.600006</td>\n",
       "      <td>294.339996</td>\n",
       "      <td>294.339996</td>\n",
       "      <td>8232700</td>\n",
       "      <td>NFLX</td>\n",
       "    </tr>\n",
       "    <tr>\n",
       "      <td>...</td>\n",
       "      <td>...</td>\n",
       "      <td>...</td>\n",
       "      <td>...</td>\n",
       "      <td>...</td>\n",
       "      <td>...</td>\n",
       "      <td>...</td>\n",
       "      <td>...</td>\n",
       "    </tr>\n",
       "    <tr>\n",
       "      <td>2020-09-15</td>\n",
       "      <td>484.000000</td>\n",
       "      <td>497.470001</td>\n",
       "      <td>481.630005</td>\n",
       "      <td>495.989990</td>\n",
       "      <td>495.989990</td>\n",
       "      <td>5337000</td>\n",
       "      <td>NFLX</td>\n",
       "    </tr>\n",
       "    <tr>\n",
       "      <td>2020-09-16</td>\n",
       "      <td>499.989990</td>\n",
       "      <td>504.660004</td>\n",
       "      <td>483.309998</td>\n",
       "      <td>483.859985</td>\n",
       "      <td>483.859985</td>\n",
       "      <td>4394900</td>\n",
       "      <td>NFLX</td>\n",
       "    </tr>\n",
       "    <tr>\n",
       "      <td>2020-09-17</td>\n",
       "      <td>475.160004</td>\n",
       "      <td>478.399994</td>\n",
       "      <td>463.269989</td>\n",
       "      <td>470.200012</td>\n",
       "      <td>470.200012</td>\n",
       "      <td>5379300</td>\n",
       "      <td>NFLX</td>\n",
       "    </tr>\n",
       "    <tr>\n",
       "      <td>2020-09-18</td>\n",
       "      <td>472.510010</td>\n",
       "      <td>479.399994</td>\n",
       "      <td>458.600006</td>\n",
       "      <td>469.959991</td>\n",
       "      <td>469.959991</td>\n",
       "      <td>6717700</td>\n",
       "      <td>NFLX</td>\n",
       "    </tr>\n",
       "    <tr>\n",
       "      <td>2020-09-21</td>\n",
       "      <td>467.690002</td>\n",
       "      <td>487.779999</td>\n",
       "      <td>466.320007</td>\n",
       "      <td>487.350006</td>\n",
       "      <td>487.350006</td>\n",
       "      <td>5450300</td>\n",
       "      <td>NFLX</td>\n",
       "    </tr>\n",
       "  </tbody>\n",
       "</table>\n",
       "<p>266 rows × 7 columns</p>\n",
       "</div>"
      ],
      "text/plain": [
       "                  open        high         low       close    adjclose  \\\n",
       "2019-09-03  290.820007  293.899994  288.059998  289.290009  289.290009   \n",
       "2019-09-04  291.250000  292.380005  286.510010  291.519989  291.519989   \n",
       "2019-09-05  285.320007  293.970001  282.790009  293.250000  293.250000   \n",
       "2019-09-06  293.350006  293.350006  287.029999  290.170013  290.170013   \n",
       "2019-09-09  294.809998  301.549988  290.600006  294.339996  294.339996   \n",
       "...                ...         ...         ...         ...         ...   \n",
       "2020-09-15  484.000000  497.470001  481.630005  495.989990  495.989990   \n",
       "2020-09-16  499.989990  504.660004  483.309998  483.859985  483.859985   \n",
       "2020-09-17  475.160004  478.399994  463.269989  470.200012  470.200012   \n",
       "2020-09-18  472.510010  479.399994  458.600006  469.959991  469.959991   \n",
       "2020-09-21  467.690002  487.779999  466.320007  487.350006  487.350006   \n",
       "\n",
       "             volume ticker  \n",
       "2019-09-03  3682800   NFLX  \n",
       "2019-09-04  4652500   NFLX  \n",
       "2019-09-05  8966800   NFLX  \n",
       "2019-09-06  5166600   NFLX  \n",
       "2019-09-09  8232700   NFLX  \n",
       "...             ...    ...  \n",
       "2020-09-15  5337000   NFLX  \n",
       "2020-09-16  4394900   NFLX  \n",
       "2020-09-17  5379300   NFLX  \n",
       "2020-09-18  6717700   NFLX  \n",
       "2020-09-21  5450300   NFLX  \n",
       "\n",
       "[266 rows x 7 columns]"
      ]
     },
     "execution_count": 3,
     "metadata": {},
     "output_type": "execute_result"
    }
   ],
   "source": [
    "ticker=\"nflx\"\n",
    "\n",
    "import datetime\n",
    "today = datetime.date.today()\n",
    "#maturity = datetime.date(2020, 10, 23)    # Y M D\n",
    "maturity = datetime.date(2021, 3, 19)    # Y M D\n",
    "startdate=datetime.date(2019, 9, 1)    # Y M D\n",
    " \n",
    "stock= get_data(ticker, start_date=startdate, end_date=today, index_as_date = True, interval=\"1d\")\n",
    "stock"
   ]
  },
  {
   "cell_type": "code",
   "execution_count": 4,
   "metadata": {},
   "outputs": [
    {
     "data": {
      "text/plain": [
       "<Figure size 1200x800 with 1 Axes>"
      ]
     },
     "metadata": {},
     "output_type": "display_data"
    }
   ],
   "source": [
    "#Plot the data\n",
    "import matplotlib.pyplot as plt #Matplotlib for pythons basic plotting\n",
    "import seaborn as sns #Seaborn for heatmap plotting\n",
    "import scipy.stats as stats #Scipy Stats module for access to statistical formula.\n",
    "import plotly\n",
    "plt.rcParams['figure.figsize'] = [12, 8]\n",
    "_ = stock[['close','high','low']].plot()\n",
    "plt.ylabel('Index Level')\n",
    "plt.title (ticker +' LEVEL TIME SERIES')\n",
    "plt.legend()\n",
    "plt.show()"
   ]
  },
  {
   "cell_type": "code",
   "execution_count": 6,
   "metadata": {},
   "outputs": [
    {
     "name": "stdout",
     "output_type": "stream",
     "text": [
      "Avg daily return is 0.234956%\n"
     ]
    },
    {
     "data": {
      "image/png": "[encoded data removed]",
      "text/plain": [
       "<Figure size 432x288 with 1 Axes>"
      ]
     },
     "metadata": {
      "needs_background": "light"
     },
     "output_type": "display_data"
    },
    {
     "data": {
      "image/png": "[encoded data removed]",
      "text/plain": [
       "<Figure size 864x576 with 1 Axes>"
      ]
     },
     "metadata": {
      "needs_background": "light"
     },
     "output_type": "display_data"
    }
   ],
   "source": [
    "#Plot returns distribution\n",
    "daily_returns = stock['close'].pct_change()\n",
    "print(\"Avg daily return is {:.6f}%\".format(daily_returns.mean()*100))\n",
    "_ = daily_returns.plot()\n",
    "plt.ylabel('Index Daily Returns')\n",
    "plt.title (ticker +' RETURN TIME SERIES')\n",
    "plt.legend()\n",
    "plt.rcParams['figure.figsize'] = [12, 8]\n",
    "plt.show()\n",
    "_1 = daily_returns.hist(bins=30)\n",
    "plt.title('Daily return distribution')\n",
    "plt.show()"
   ]
  },
  {
   "cell_type": "code",
   "execution_count": 7,
   "metadata": {},
   "outputs": [
    {
     "data": {
      "image/png": "[encoded data removed]",
      "text/plain": [
       "<Figure size 864x576 with 1 Axes>"
      ]
     },
     "metadata": {
      "needs_background": "light"
     },
     "output_type": "display_data"
    }
   ],
   "source": [
    "#Daily log returns\n",
    "daily_log_returns = np.log(daily_returns+1)\n",
    "_1 = daily_log_returns.hist(bins=30)\n",
    "plt.title('Daily log return distribution')\n",
    "plt.show()"
   ]
  },
  {
   "cell_type": "code",
   "execution_count": 8,
   "metadata": {},
   "outputs": [
    {
     "name": "stdout",
     "output_type": "stream",
     "text": [
      "Annualized daily volatility from 2019-09-03 to 2020-09-21 for nflx is 43.78%\n"
     ]
    }
   ],
   "source": [
    "# Calculate the annualized volatility\n",
    "\n",
    "volatility = daily_log_returns.std() * (252**0.5)\n",
    "print(\"Annualized daily volatility from {} to {} for {} is {:.2f}%\".format\\\n",
    "      (stock.index[0].date(), stock.index[-1].date(), ticker, volatility*100))\n",
    "\n"
   ]
  },
  {
   "cell_type": "code",
   "execution_count": 9,
   "metadata": {},
   "outputs": [
    {
     "name": "stdout",
     "output_type": "stream",
     "text": [
      "The current price of the stock is  482.989990234375\n"
     ]
    }
   ],
   "source": [
    "pricetoday=si.get_live_price(ticker)\n",
    "print(\"The current price of the stock is \",pricetoday)"
   ]
  },
  {
   "cell_type": "code",
   "execution_count": null,
   "metadata": {},
   "outputs": [],
   "source": []
  }
 ],
 "metadata": {
  "kernelspec": {
   "display_name": "Python 3",
   "language": "python",
   "name": "python3"
  },
  "language_info": {
   "codemirror_mode": {
    "name": "ipython",
    "version": 3
   },
   "file_extension": ".py",
   "mimetype": "text/x-python",
   "name": "python",
   "nbconvert_exporter": "python",
   "pygments_lexer": "ipython3",
   "version": "3.7.4"
  }
 },
 "nbformat": 4,
 "nbformat_minor": 4
}
