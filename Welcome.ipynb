{
 "cells": [
  {
   "cell_type": "markdown",
   "metadata": {},
   "source": [
    "# Financial Mathematics Notebooks\n",
    "\n"
   ]
  },
  {
   "cell_type": "markdown",
   "metadata": {},
   "source": [
    "# Hardware requirements\n",
    "\n",
    "You will need access to a web browser to interact with the notebooks. This can be done using almost any computer, tablet, or even smartphone (although you might need a bluetooth keyboard to make typing manageable). \n"
   ]
  },
  {
   "cell_type": "markdown",
   "metadata": {},
   "source": [
    "# Software requirements\n",
    "\n",
    "Other than a standard browser, there are none.\n"
   ]
  },
  {
   "cell_type": "markdown",
   "metadata": {},
   "source": [
    "# Accessing your somsdit account\n",
    "\n",
    "If you would like to try out the notebooks available for the module on Brigthspace, please email me and I will set up an account for you. I will follow up with you to arrange a time to provide you with a password.\n",
    "\n",
    "**I can't emphasise the following enough: this is a valuable resource for many students so any misuse, including sharing your account or password, will result in an immediate and permanent loss of access at minimum.**\n",
    "\n",
    "Copy your password, without any other identifying information, to somewhere private that you will have access to in class and put the sheet somewhere safe at home.\n",
    "(A good trick for keeping secure notes for yourself on your phone is to create a group on WhatsApp with one other person, **then remove this person**. You now should have a group with only you in it and you can send yourself a photograph of your password.)\n",
    "\n",
    "If you lose your password, or if you think someone else might have it, email me immediately and I will create a new password for you. Security is important, there were 1000 attempts by hackers in 12 hours over the weekend.\n",
    "\n",
    "To log on to your **somstudublin** account, go to **somstudublin.ie** and click the *Jupyter Notebooks* link to the left.\n",
    "\n",
    "Your username is your student ID, with the letter in **LOWER CASE**, and your password is as above.\n",
    "\n",
    "*Please note that this is a learning account only and you should have no expectations of privacy.*\n"
   ]
  },
  {
   "cell_type": "markdown",
   "metadata": {},
   "source": [
    "\n",
    "# Using the Jupyter Notebooks\n",
    "\n",
    "Each Jupyter Notebook is an interactive environment for writing and running code. \n",
    "\n",
    "I will distribute new notebooks to your accounts as required. \n",
    "\n",
    "#### Note that the notebooks you are working on are your own copies.  You should make sure to save any changes you make by using `Shift-S` or pressing the <button class='btn btn-default btn-xs'><i class=\"icon-save fa fa-save\"></i></button> in the toolbar above. \n",
    "\n",
    "It is a good idea to save a copy of the original file to your account before doing anything else. If you \"break\" the notebook you can make another copy from the original to start over. \n",
    "\n",
    "You may also create your own notebooks by going to `File` then `New Notebook` and choosing either the `Python 3` or `R` option. You may give your new notebook a suitable name by going to `File` and choosing the `Rename` option. Make sure to save your work frequently. \n",
    "\n",
    "Each cell in your Jupyter notebook should be of the type `Code` or `Markdown`. The default type is `Code`. If you wish to enter text and equations you need to go to the dropdown menu and change the type of the cell to `Markdown`.\n",
    "\n",
    "In `Markdown` cells, text is entered directly and heading can be made using the # symbol, or multiple # symbols for smaller headings. Equations are entered using LaTeX. \n",
    "\n",
    "You may view to raw code or markdown text in a cell by double clicking on it. \n"
   ]
  },
  {
   "cell_type": "markdown",
   "metadata": {},
   "source": [
    "## Code cells allow you to enter and run code"
   ]
  },
  {
   "cell_type": "markdown",
   "metadata": {},
   "source": [
    "Run a code cell using `Shift-Enter` or pressing the <button class='btn btn-default btn-xs'><i class=\"icon-step-forward fa fa-step-forward\"></i></button> button in the toolbar above:"
   ]
  },
  {
   "cell_type": "code",
   "execution_count": 1,
   "metadata": {},
   "outputs": [],
   "source": [
    "a = 10"
   ]
  },
  {
   "cell_type": "code",
   "execution_count": 2,
   "metadata": {},
   "outputs": [
    {
     "name": "stdout",
     "output_type": "stream",
     "text": [
      "10\n"
     ]
    }
   ],
   "source": [
    "print(a)"
   ]
  },
  {
   "cell_type": "markdown",
   "metadata": {},
   "source": [
    "There are two other keyboard shortcuts for running code:\n",
    "\n",
    "* `Alt-Enter` runs the current cell and inserts a new one below.\n",
    "* `Ctrl-Enter` run the current cell and enters command mode."
   ]
  },
  {
   "cell_type": "markdown",
   "metadata": {},
   "source": [
    "## Managing the Kernel"
   ]
  },
  {
   "cell_type": "markdown",
   "metadata": {},
   "source": [
    "Code is run in a separate process called the Kernel.  The Kernel can be interrupted or restarted.  Try running the following cell and then hit the <button class='btn btn-default btn-xs'><i class='icon-stop fa fa-stop'></i></button> button in the toolbar above."
   ]
  },
  {
   "cell_type": "markdown",
   "metadata": {},
   "source": [
    "## Restarting the kernels"
   ]
  },
  {
   "cell_type": "markdown",
   "metadata": {},
   "source": [
    "The kernel maintains the state of a notebook's computations. You can reset this state by restarting the kernel. This is done by clicking on the <button class='btn btn-default btn-xs'><i class='fa fa-repeat icon-repeat'></i></button> in the toolbar above or by using the dropdown menu under `Kernel`."
   ]
  },
  {
   "cell_type": "markdown",
   "metadata": {
    "collapsed": true
   },
   "source": [
    "## Using  notebooks from class\n",
    "\n",
    "The first notebook is already on your somsdit account. You can access it by going to `File`, selecting `Open`, and choosing it from the menu.\n",
    "\n",
    "For the other notebooks used in class, you can download the file from Webcourses to your local PC and, from there, upload it to your somsdit account by going to `File`, selecting `Open`, and clicking on the `Upload` button on the right hand side. \n",
    "\n"
   ]
  },
  {
   "cell_type": "code",
   "execution_count": null,
   "metadata": {
    "collapsed": true
   },
   "outputs": [],
   "source": []
  }
 ],
 "metadata": {
  "kernelspec": {
   "display_name": "Python 3",
   "language": "python",
   "name": "python3"
  },
  "language_info": {
   "codemirror_mode": {
    "name": "ipython",
    "version": 3
   },
   "file_extension": ".py",
   "mimetype": "text/x-python",
   "name": "python",
   "nbconvert_exporter": "python",
   "pygments_lexer": "ipython3",
   "version": "3.8.5"
  }
 },
 "nbformat": 4,
 "nbformat_minor": 1
}
